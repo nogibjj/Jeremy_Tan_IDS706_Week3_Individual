{
 "cells": [
  {
   "cell_type": "code",
   "execution_count": 1,
   "metadata": {},
   "outputs": [],
   "source": [
    "from mylib.lib import load_and_preprocess\n",
    "\n",
    "example_csv = \"https://raw.githubusercontent.com/fivethirtyeight/data/master/congress-age/congress-terms.csv\""
   ]
  },
  {
   "cell_type": "code",
   "execution_count": 3,
   "metadata": {},
   "outputs": [
    {
     "data": {
      "text/html": [
       "<div><style>\n",
       ".dataframe > thead > tr > th,\n",
       ".dataframe > tbody > tr > td {\n",
       "  text-align: right;\n",
       "  white-space: pre-wrap;\n",
       "}\n",
       "</style>\n",
       "<small>shape: (5, 13)</small><table border=\"1\" class=\"dataframe\"><thead><tr><th>congress</th><th>chamber</th><th>bioguide</th><th>firstname</th><th>middlename</th><th>lastname</th><th>suffix</th><th>birthday</th><th>state</th><th>party</th><th>incumbent</th><th>termstart</th><th>age</th></tr><tr><td>i64</td><td>str</td><td>str</td><td>str</td><td>str</td><td>str</td><td>str</td><td>str</td><td>str</td><td>str</td><td>str</td><td>str</td><td>f64</td></tr></thead><tbody><tr><td>80</td><td>&quot;house&quot;</td><td>&quot;M000112&quot;</td><td>&quot;Joseph&quot;</td><td>&quot;Jefferson&quot;</td><td>&quot;Mansfield&quot;</td><td>null</td><td>&quot;1861-02-09&quot;</td><td>&quot;TX&quot;</td><td>&quot;D&quot;</td><td>&quot;Yes&quot;</td><td>&quot;1947-01-03&quot;</td><td>85.9</td></tr><tr><td>80</td><td>&quot;house&quot;</td><td>&quot;D000448&quot;</td><td>&quot;Robert&quot;</td><td>&quot;Lee&quot;</td><td>&quot;Doughton&quot;</td><td>null</td><td>&quot;1863-11-07&quot;</td><td>&quot;NC&quot;</td><td>&quot;D&quot;</td><td>&quot;Yes&quot;</td><td>&quot;1947-01-03&quot;</td><td>83.2</td></tr><tr><td>80</td><td>&quot;house&quot;</td><td>&quot;S000001&quot;</td><td>&quot;Adolph&quot;</td><td>&quot;Joachim&quot;</td><td>&quot;Sabath&quot;</td><td>null</td><td>&quot;1866-04-04&quot;</td><td>&quot;IL&quot;</td><td>&quot;D&quot;</td><td>&quot;Yes&quot;</td><td>&quot;1947-01-03&quot;</td><td>80.7</td></tr><tr><td>80</td><td>&quot;house&quot;</td><td>&quot;E000023&quot;</td><td>&quot;Charles&quot;</td><td>&quot;Aubrey&quot;</td><td>&quot;Eaton&quot;</td><td>null</td><td>&quot;1868-03-29&quot;</td><td>&quot;NJ&quot;</td><td>&quot;R&quot;</td><td>&quot;Yes&quot;</td><td>&quot;1947-01-03&quot;</td><td>78.8</td></tr><tr><td>80</td><td>&quot;house&quot;</td><td>&quot;L000296&quot;</td><td>&quot;William&quot;</td><td>null</td><td>&quot;Lewis&quot;</td><td>null</td><td>&quot;1868-09-22&quot;</td><td>&quot;KY&quot;</td><td>&quot;R&quot;</td><td>&quot;No&quot;</td><td>&quot;1947-01-03&quot;</td><td>78.3</td></tr></tbody></table></div>"
      ],
      "text/plain": [
       "shape: (5, 13)\n",
       "┌──────────┬─────────┬──────────┬───────────┬───┬───────┬───────────┬────────────┬──────┐\n",
       "│ congress ┆ chamber ┆ bioguide ┆ firstname ┆ … ┆ party ┆ incumbent ┆ termstart  ┆ age  │\n",
       "│ ---      ┆ ---     ┆ ---      ┆ ---       ┆   ┆ ---   ┆ ---       ┆ ---        ┆ ---  │\n",
       "│ i64      ┆ str     ┆ str      ┆ str       ┆   ┆ str   ┆ str       ┆ str        ┆ f64  │\n",
       "╞══════════╪═════════╪══════════╪═══════════╪═══╪═══════╪═══════════╪════════════╪══════╡\n",
       "│ 80       ┆ house   ┆ M000112  ┆ Joseph    ┆ … ┆ D     ┆ Yes       ┆ 1947-01-03 ┆ 85.9 │\n",
       "│ 80       ┆ house   ┆ D000448  ┆ Robert    ┆ … ┆ D     ┆ Yes       ┆ 1947-01-03 ┆ 83.2 │\n",
       "│ 80       ┆ house   ┆ S000001  ┆ Adolph    ┆ … ┆ D     ┆ Yes       ┆ 1947-01-03 ┆ 80.7 │\n",
       "│ 80       ┆ house   ┆ E000023  ┆ Charles   ┆ … ┆ R     ┆ Yes       ┆ 1947-01-03 ┆ 78.8 │\n",
       "│ 80       ┆ house   ┆ L000296  ┆ William   ┆ … ┆ R     ┆ No        ┆ 1947-01-03 ┆ 78.3 │\n",
       "└──────────┴─────────┴──────────┴───────────┴───┴───────┴───────────┴────────────┴──────┘"
      ]
     },
     "execution_count": 3,
     "metadata": {},
     "output_type": "execute_result"
    }
   ],
   "source": [
    "general_df = load_and_preprocess(example_csv)\n",
    "general_df.head()"
   ]
  },
  {
   "cell_type": "code",
   "execution_count": 16,
   "metadata": {},
   "outputs": [],
   "source": [
    "describe_test = general_df.describe()\n",
    "assert describe_test.shape == (9, 14)"
   ]
  }
 ],
 "metadata": {
  "kernelspec": {
   "display_name": "base",
   "language": "python",
   "name": "python3"
  },
  "language_info": {
   "codemirror_mode": {
    "name": "ipython",
    "version": 3
   },
   "file_extension": ".py",
   "mimetype": "text/x-python",
   "name": "python",
   "nbconvert_exporter": "python",
   "pygments_lexer": "ipython3",
   "version": "3.11.5"
  },
  "orig_nbformat": 4
 },
 "nbformat": 4,
 "nbformat_minor": 2
}
